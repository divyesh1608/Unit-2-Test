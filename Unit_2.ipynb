{
  "nbformat": 4,
  "nbformat_minor": 0,
  "metadata": {
    "colab": {
      "provenance": [],
      "gpuType": "T4"
    },
    "kernelspec": {
      "name": "python3",
      "display_name": "Python 3"
    },
    "language_info": {
      "name": "python"
    },
    "accelerator": "GPU"
  },
  "cells": [
    {
      "cell_type": "code",
      "source": [
        "# Divyesh AIML"
      ],
      "metadata": {
        "id": "KiyBuGAbMxDr"
      },
      "execution_count": 37,
      "outputs": []
    },
    {
      "cell_type": "code",
      "source": [
        "! mkdir ~/.kaggle\n",
        "! cp kaggle.json ~/.kaggle/"
      ],
      "metadata": {
        "colab": {
          "base_uri": "https://localhost:8080/"
        },
        "id": "uwFunK8E7jyg",
        "outputId": "eb05c9b4-1541-4d18-bcba-c319f453226d"
      },
      "execution_count": 5,
      "outputs": [
        {
          "output_type": "stream",
          "name": "stdout",
          "text": [
            "mkdir: cannot create directory ‘/root/.kaggle’: File exists\n"
          ]
        }
      ]
    },
    {
      "cell_type": "code",
      "source": [
        "! kaggle datasets download -d sshikamaru/fruit-recognition"
      ],
      "metadata": {
        "colab": {
          "base_uri": "https://localhost:8080/"
        },
        "id": "maQFGKDm7klC",
        "outputId": "e1269970-9e3a-49dc-8ef6-83ffa0424489"
      },
      "execution_count": 6,
      "outputs": [
        {
          "output_type": "stream",
          "name": "stdout",
          "text": [
            "Warning: Your Kaggle API key is readable by other users on this system! To fix this, you can run 'chmod 600 /root/.kaggle/kaggle.json'\n",
            "Downloading fruit-recognition.zip to /content\n",
            " 96% 98.0M/102M [00:03<00:00, 37.0MB/s]\n",
            "100% 102M/102M [00:03<00:00, 31.2MB/s] \n"
          ]
        }
      ]
    },
    {
      "cell_type": "code",
      "source": [
        "import zipfile\n",
        "zip_ref = zipfile.ZipFile('/content/fruit-recognition.zip','r')\n",
        "zip_ref.extractall('/content')\n",
        "zip_ref.close()"
      ],
      "metadata": {
        "id": "_7di_wjd8JmW"
      },
      "execution_count": 7,
      "outputs": []
    },
    {
      "cell_type": "code",
      "source": [
        "import numpy as np\n",
        "import pandas as pd\n",
        "import matplotlib.pyplot as plt\n",
        "import seaborn as sns"
      ],
      "metadata": {
        "id": "G-21fFPT9uiy"
      },
      "execution_count": 8,
      "outputs": []
    },
    {
      "cell_type": "code",
      "source": [
        "import os\n",
        "import pathlib\n",
        "import random\n",
        "import tensorflow as tf\n",
        "from tensorflow import keras\n",
        "from tensorflow.keras import Sequential\n",
        "from tensorflow.keras.layers import Conv2D,Dense,MaxPool2D,Flatten,BatchNormalization,Dropout\n",
        "from keras.preprocessing import image\n",
        "import matplotlib.pyplot as plt\n",
        "import cv2"
      ],
      "metadata": {
        "id": "MGpeVQah8gti"
      },
      "execution_count": 24,
      "outputs": []
    },
    {
      "cell_type": "code",
      "source": [
        "train_data = keras.utils.image_dataset_from_directory(\n",
        "    directory = '/content/train/train',\n",
        "    labels= 'inferred',\n",
        "    label_mode= 'int',\n",
        "    batch_size= 32,\n",
        "    image_size=(256,256)\n",
        ")"
      ],
      "metadata": {
        "colab": {
          "base_uri": "https://localhost:8080/"
        },
        "id": "HIBabjTa8g6_",
        "outputId": "827abc90-5ce3-4147-950f-ae19f420c871"
      },
      "execution_count": 10,
      "outputs": [
        {
          "output_type": "stream",
          "name": "stdout",
          "text": [
            "Found 16854 files belonging to 33 classes.\n"
          ]
        }
      ]
    },
    {
      "cell_type": "code",
      "source": [
        "for dirpath, dirnames, filenames in os.walk(\"/content/train/train\"):\n",
        "    print(f\"There are {len(dirnames)} directories and {len(filenames)} images in '{dirpath}'.\")"
      ],
      "metadata": {
        "colab": {
          "base_uri": "https://localhost:8080/"
        },
        "id": "VaxiOf5nHIDw",
        "outputId": "e2da634b-ee3d-4488-fffa-f1315128adb8"
      },
      "execution_count": 18,
      "outputs": [
        {
          "output_type": "stream",
          "name": "stdout",
          "text": [
            "There are 33 directories and 0 images in '/content/train/train'.\n",
            "There are 0 directories and 492 images in '/content/train/train/Apricot'.\n",
            "There are 0 directories and 492 images in '/content/train/train/Pomegranate'.\n",
            "There are 0 directories and 492 images in '/content/train/train/Cherry'.\n",
            "There are 0 directories and 490 images in '/content/train/train/Mango'.\n",
            "There are 0 directories and 492 images in '/content/train/train/Peach'.\n",
            "There are 0 directories and 492 images in '/content/train/train/Papaya'.\n",
            "There are 0 directories and 466 images in '/content/train/train/Kiwi'.\n",
            "There are 0 directories and 475 images in '/content/train/train/Watermelon'.\n",
            "There are 0 directories and 490 images in '/content/train/train/Banana'.\n",
            "There are 0 directories and 392 images in '/content/train/train/Cucumber Ripe'.\n",
            "There are 0 directories and 492 images in '/content/train/train/Apple Granny Smith'.\n",
            "There are 0 directories and 479 images in '/content/train/train/Orange'.\n",
            "There are 0 directories and 438 images in '/content/train/train/Onion White'.\n",
            "There are 0 directories and 696 images in '/content/train/train/Pear'.\n",
            "There are 0 directories and 490 images in '/content/train/train/Pineapple'.\n",
            "There are 0 directories and 492 images in '/content/train/train/Lemon'.\n",
            "There are 0 directories and 490 images in '/content/train/train/Passion Fruit'.\n",
            "There are 0 directories and 450 images in '/content/train/train/Corn'.\n",
            "There are 0 directories and 492 images in '/content/train/train/Strawberry'.\n",
            "There are 0 directories and 447 images in '/content/train/train/Plum'.\n",
            "There are 0 directories and 490 images in '/content/train/train/Clementine'.\n",
            "There are 0 directories and 462 images in '/content/train/train/Blueberry'.\n",
            "There are 0 directories and 427 images in '/content/train/train/Avocado'.\n",
            "There are 0 directories and 490 images in '/content/train/train/Limes'.\n",
            "There are 0 directories and 738 images in '/content/train/train/Tomato'.\n",
            "There are 0 directories and 490 images in '/content/train/train/Cactus fruit'.\n",
            "There are 0 directories and 492 images in '/content/train/train/Cantaloupe'.\n",
            "There are 0 directories and 490 images in '/content/train/train/Raspberry'.\n",
            "There are 0 directories and 666 images in '/content/train/train/Pepper Red'.\n",
            "There are 0 directories and 492 images in '/content/train/train/Apple Braeburn'.\n",
            "There are 0 directories and 444 images in '/content/train/train/Pepper Green'.\n",
            "There are 0 directories and 984 images in '/content/train/train/Grape Blue'.\n",
            "There are 0 directories and 450 images in '/content/train/train/Potato Red'.\n"
          ]
        }
      ]
    },
    {
      "cell_type": "code",
      "source": [
        "train_path = \"/content/train/train\"\n",
        "test_path = \"/content/test/test\""
      ],
      "metadata": {
        "id": "OLDBxxpYHdWS"
      },
      "execution_count": 19,
      "outputs": []
    },
    {
      "cell_type": "code",
      "source": [
        "data_dir = pathlib.Path(train_path)\n",
        "class_names = np.array(sorted([item.name for item in data_dir.glob('*')]))\n",
        "print(class_names)"
      ],
      "metadata": {
        "colab": {
          "base_uri": "https://localhost:8080/"
        },
        "id": "IOayIwAxHdib",
        "outputId": "e60aecac-aa92-40bc-ead6-7b63588b6ed9"
      },
      "execution_count": 21,
      "outputs": [
        {
          "output_type": "stream",
          "name": "stdout",
          "text": [
            "['Apple Braeburn' 'Apple Granny Smith' 'Apricot' 'Avocado' 'Banana'\n",
            " 'Blueberry' 'Cactus fruit' 'Cantaloupe' 'Cherry' 'Clementine' 'Corn'\n",
            " 'Cucumber Ripe' 'Grape Blue' 'Kiwi' 'Lemon' 'Limes' 'Mango' 'Onion White'\n",
            " 'Orange' 'Papaya' 'Passion Fruit' 'Peach' 'Pear' 'Pepper Green'\n",
            " 'Pepper Red' 'Pineapple' 'Plum' 'Pomegranate' 'Potato Red' 'Raspberry'\n",
            " 'Strawberry' 'Tomato' 'Watermelon']\n"
          ]
        }
      ]
    },
    {
      "cell_type": "code",
      "source": [
        "def process(image,label):\n",
        "    image = tf.cast(image/255. ,tf.float32)\n",
        "    return image,label\n",
        "train_data = train_data.map(process)"
      ],
      "metadata": {
        "id": "3RiHVsaO8hCW"
      },
      "execution_count": 11,
      "outputs": []
    },
    {
      "cell_type": "code",
      "source": [
        "model = Sequential()\n",
        "model.add(Conv2D(32,kernel_size=(3,3),padding='valid',activation='relu',input_shape = (256,256,3))),\n",
        "model.add(BatchNormalization())\n",
        "model.add(MaxPool2D(pool_size=(2,2),strides=2,padding='valid'))\n",
        "\n",
        "model.add(Conv2D(64,kernel_size=(3,3),padding='valid',activation='relu')),\n",
        "model.add(BatchNormalization())\n",
        "model.add(MaxPool2D(pool_size=(2,2),strides=2,padding='valid'))\n",
        "\n",
        "model.add(Conv2D(128,kernel_size=(3,3),padding='valid',activation='relu')),\n",
        "model.add(BatchNormalization())\n",
        "model.add(MaxPool2D(pool_size=(2,2),strides=2,padding='valid'))\n",
        "\n",
        "model.add(Flatten())\n",
        "\n",
        "model.add(Dense(128,activation='relu'))\n",
        "model.add(Dropout(0.01))\n",
        "model.add(Dense(64,activation='relu'))\n",
        "model.add(Dropout(0.01))\n",
        "model.add(Dense(33,activation='softmax'))"
      ],
      "metadata": {
        "id": "FiHONyWg8hGt"
      },
      "execution_count": 28,
      "outputs": []
    },
    {
      "cell_type": "code",
      "source": [
        "model.summary()"
      ],
      "metadata": {
        "colab": {
          "base_uri": "https://localhost:8080/"
        },
        "id": "LuxpyGhL8hJr",
        "outputId": "031f0617-0d4c-4895-ef8f-b2eddadc3d69"
      },
      "execution_count": 29,
      "outputs": [
        {
          "output_type": "stream",
          "name": "stdout",
          "text": [
            "Model: \"sequential_1\"\n",
            "_________________________________________________________________\n",
            " Layer (type)                Output Shape              Param #   \n",
            "=================================================================\n",
            " conv2d_3 (Conv2D)           (None, 254, 254, 32)      896       \n",
            "                                                                 \n",
            " batch_normalization_3 (Batc  (None, 254, 254, 32)     128       \n",
            " hNormalization)                                                 \n",
            "                                                                 \n",
            " max_pooling2d_3 (MaxPooling  (None, 127, 127, 32)     0         \n",
            " 2D)                                                             \n",
            "                                                                 \n",
            " conv2d_4 (Conv2D)           (None, 125, 125, 64)      18496     \n",
            "                                                                 \n",
            " batch_normalization_4 (Batc  (None, 125, 125, 64)     256       \n",
            " hNormalization)                                                 \n",
            "                                                                 \n",
            " max_pooling2d_4 (MaxPooling  (None, 62, 62, 64)       0         \n",
            " 2D)                                                             \n",
            "                                                                 \n",
            " conv2d_5 (Conv2D)           (None, 60, 60, 128)       73856     \n",
            "                                                                 \n",
            " batch_normalization_5 (Batc  (None, 60, 60, 128)      512       \n",
            " hNormalization)                                                 \n",
            "                                                                 \n",
            " max_pooling2d_5 (MaxPooling  (None, 30, 30, 128)      0         \n",
            " 2D)                                                             \n",
            "                                                                 \n",
            " flatten_1 (Flatten)         (None, 115200)            0         \n",
            "                                                                 \n",
            " dense_3 (Dense)             (None, 128)               14745728  \n",
            "                                                                 \n",
            " dropout_2 (Dropout)         (None, 128)               0         \n",
            "                                                                 \n",
            " dense_4 (Dense)             (None, 64)                8256      \n",
            "                                                                 \n",
            " dropout_3 (Dropout)         (None, 64)                0         \n",
            "                                                                 \n",
            " dense_5 (Dense)             (None, 33)                2145      \n",
            "                                                                 \n",
            "=================================================================\n",
            "Total params: 14,850,273\n",
            "Trainable params: 14,849,825\n",
            "Non-trainable params: 448\n",
            "_________________________________________________________________\n"
          ]
        }
      ]
    },
    {
      "cell_type": "code",
      "source": [
        "model.compile(optimizer = 'adam' , loss = 'sparse_categorical_crossentropy' , metrics = ['accuracy'])"
      ],
      "metadata": {
        "id": "CVw9BMVy8hM9"
      },
      "execution_count": 35,
      "outputs": []
    },
    {
      "cell_type": "code",
      "source": [
        "history = model.fit(train_data,epochs=10)"
      ],
      "metadata": {
        "colab": {
          "base_uri": "https://localhost:8080/"
        },
        "id": "jCBE-ryz8hPo",
        "outputId": "d9f7111f-6999-4ba2-a30f-d4e7fdc6beee"
      },
      "execution_count": 36,
      "outputs": [
        {
          "output_type": "stream",
          "name": "stdout",
          "text": [
            "Epoch 1/10\n",
            "527/527 [==============================] - 50s 89ms/step - loss: 0.9831 - accuracy: 0.8674\n",
            "Epoch 2/10\n",
            "527/527 [==============================] - 48s 91ms/step - loss: 0.2147 - accuracy: 0.9742\n",
            "Epoch 3/10\n",
            "527/527 [==============================] - 47s 90ms/step - loss: 0.1502 - accuracy: 0.9827\n",
            "Epoch 4/10\n",
            "527/527 [==============================] - 48s 89ms/step - loss: 0.1998 - accuracy: 0.9828\n",
            "Epoch 5/10\n",
            "527/527 [==============================] - 48s 90ms/step - loss: 0.1498 - accuracy: 0.9887\n",
            "Epoch 6/10\n",
            "527/527 [==============================] - 47s 88ms/step - loss: 0.3014 - accuracy: 0.9819\n",
            "Epoch 7/10\n",
            "527/527 [==============================] - 48s 90ms/step - loss: 0.1051 - accuracy: 0.9930\n",
            "Epoch 8/10\n",
            "527/527 [==============================] - 47s 88ms/step - loss: 0.0812 - accuracy: 0.9967\n",
            "Epoch 9/10\n",
            "527/527 [==============================] - 47s 89ms/step - loss: 0.2369 - accuracy: 0.9868\n",
            "Epoch 10/10\n",
            "527/527 [==============================] - 47s 89ms/step - loss: 0.0566 - accuracy: 0.9963\n"
          ]
        }
      ]
    },
    {
      "cell_type": "code",
      "source": [],
      "metadata": {
        "id": "4sA2uFYo-4of"
      },
      "execution_count": null,
      "outputs": []
    }
  ]
}